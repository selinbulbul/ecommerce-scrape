{
 "cells": [
  {
   "cell_type": "code",
   "execution_count": 2,
   "source": [
    "import pandas as pd"
   ],
   "outputs": [],
   "metadata": {}
  },
  {
   "cell_type": "code",
   "execution_count": 4,
   "source": [
    "df = pd.read_json(\"search_output.jsonl\")"
   ],
   "outputs": [],
   "metadata": {}
  },
  {
   "cell_type": "code",
   "execution_count": 5,
   "source": [
    "df.to_excel('summary.xlsx')"
   ],
   "outputs": [],
   "metadata": {}
  },
  {
   "cell_type": "code",
   "execution_count": null,
   "source": [
    "df_product = pd.read_json(\"product_output.jsonl\")"
   ],
   "outputs": [],
   "metadata": {}
  },
  {
   "cell_type": "code",
   "execution_count": null,
   "source": [
    "df_product.product_addl_info[0][0]['info']"
   ],
   "outputs": [],
   "metadata": {}
  },
  {
   "cell_type": "code",
   "execution_count": null,
   "source": [
    "columns = []\r\n",
    "for i in range(len(df_product)):\r\n",
    "    for j in df_product.product_addl_info[i]:\r\n",
    "        columns.append(j['info'])\r\n",
    "\r\n",
    "columns = list(set(columns))\r\n",
    "    #print(df.product_addl_info[i][0])\r\n",
    "columns.remove('Customer Reviews')\r\n",
    "print(columns)"
   ],
   "outputs": [],
   "metadata": {}
  },
  {
   "cell_type": "code",
   "execution_count": null,
   "source": [
    "new = pd.DataFrame(columns=columns)\r\n",
    "new"
   ],
   "outputs": [],
   "metadata": {}
  },
  {
   "cell_type": "code",
   "execution_count": null,
   "source": [
    "ef= ef= df_product['product_tech_spec'].dropna()\r\n",
    "fg=[]\r\n",
    "for i in ef:\r\n",
    "    for j in i:\r\n",
    "       fg.append(j)\r\n",
    "gf=[]\r\n",
    "for i in fg:\r\n",
    "    for n in i:\r\n",
    "         gf.append(i['info'])\r\n",
    "\r\n",
    "gf = set(gf)\r\n",
    "gf.discard('Customer Reviews')\r\n",
    "tf = pd.DataFrame(columns = gf)\r\n",
    "gf = list(gf)\r\n",
    "\r\n",
    "new1 = pd.DataFrame(columns=gf)\r\n",
    "\r\n"
   ],
   "outputs": [],
   "metadata": {}
  },
  {
   "cell_type": "code",
   "execution_count": null,
   "source": [
    "\r\n",
    "\r\n",
    "for i in range(len(df)):\r\n",
    "#for i in list(range(5))[1:]:\r\n",
    "    #print(df.product_tech_spec[i])\r\n",
    "    if df.product_tech_spec[i] is None:\r\n",
    "        new1.loc[i, : ] = ''\r\n",
    "        #print(i)\r\n",
    "        continue\r\n",
    "\r\n",
    "    for j in df.product_tech_spec[i]:\r\n",
    "        #info = j['info']\r\n",
    "        #value = j['value']\r\n",
    "        #print(info, value)\r\n",
    "        \r\n",
    "        new1.loc[i, j['info']] = j['value']\r\n",
    "\r\n"
   ],
   "outputs": [],
   "metadata": {}
  },
  {
   "cell_type": "code",
   "execution_count": null,
   "source": [
    "pd.concat([new1, new], axis=1).to_csv('addl_tech.csv')"
   ],
   "outputs": [],
   "metadata": {}
  },
  {
   "cell_type": "code",
   "execution_count": null,
   "source": [
    "for j in range(len(products)):\r\n",
    "    for i in new:\r\n",
    "        if products[j][i] == back(products[j],'info'):\r\n",
    "            new.loc[j, products[j][i]] = back(products[j],'value')\r\n",
    "\r\n"
   ],
   "outputs": [],
   "metadata": {}
  }
 ],
 "metadata": {
  "orig_nbformat": 4,
  "language_info": {
   "name": "python"
  }
 },
 "nbformat": 4,
 "nbformat_minor": 2
}